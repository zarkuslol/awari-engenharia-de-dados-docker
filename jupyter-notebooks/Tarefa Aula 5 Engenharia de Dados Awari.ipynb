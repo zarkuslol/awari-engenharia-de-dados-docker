{
 "cells": [
  {
   "cell_type": "markdown",
   "id": "2bdaa68a-b79f-40f6-a413-1aba768284ac",
   "metadata": {
    "tags": []
   },
   "source": [
    "# Importações"
   ]
  },
  {
   "cell_type": "code",
   "execution_count": 1,
   "id": "6baf0672-94d7-4114-898c-769149d18ede",
   "metadata": {
    "tags": []
   },
   "outputs": [],
   "source": [
    "import pandas as pd"
   ]
  },
  {
   "cell_type": "markdown",
   "id": "829183b6-0677-4ed7-b080-39619bb589c0",
   "metadata": {
    "tags": []
   },
   "source": [
    "# Carregamento dos Dados"
   ]
  },
  {
   "cell_type": "code",
   "execution_count": 3,
   "id": "022a3612-37d1-4c67-b06c-8003cea02a05",
   "metadata": {
    "tags": []
   },
   "outputs": [
    {
     "data": {
      "text/html": [
       "<div>\n",
       "<style scoped>\n",
       "    .dataframe tbody tr th:only-of-type {\n",
       "        vertical-align: middle;\n",
       "    }\n",
       "\n",
       "    .dataframe tbody tr th {\n",
       "        vertical-align: top;\n",
       "    }\n",
       "\n",
       "    .dataframe thead th {\n",
       "        text-align: right;\n",
       "    }\n",
       "</style>\n",
       "<table border=\"1\" class=\"dataframe\">\n",
       "  <thead>\n",
       "    <tr style=\"text-align: right;\">\n",
       "      <th></th>\n",
       "      <th>Artist</th>\n",
       "      <th>Total Views</th>\n",
       "      <th>100M</th>\n",
       "      <th>Avg</th>\n",
       "    </tr>\n",
       "  </thead>\n",
       "  <tbody>\n",
       "    <tr>\n",
       "      <th>0</th>\n",
       "      <td>BTS</td>\n",
       "      <td>27,947.9</td>\n",
       "      <td>63.0</td>\n",
       "      <td>7.370</td>\n",
       "    </tr>\n",
       "    <tr>\n",
       "      <th>1</th>\n",
       "      <td>Bad Bunny</td>\n",
       "      <td>27,573.4</td>\n",
       "      <td>66.0</td>\n",
       "      <td>14.555</td>\n",
       "    </tr>\n",
       "    <tr>\n",
       "      <th>2</th>\n",
       "      <td>Justin Bieber</td>\n",
       "      <td>27,399.7</td>\n",
       "      <td>37.0</td>\n",
       "      <td>3.986</td>\n",
       "    </tr>\n",
       "    <tr>\n",
       "      <th>3</th>\n",
       "      <td>Ed Sheeran</td>\n",
       "      <td>26,894.0</td>\n",
       "      <td>39.0</td>\n",
       "      <td>4.609</td>\n",
       "    </tr>\n",
       "    <tr>\n",
       "      <th>4</th>\n",
       "      <td>Taylor Swift</td>\n",
       "      <td>24,350.0</td>\n",
       "      <td>38.0</td>\n",
       "      <td>5.716</td>\n",
       "    </tr>\n",
       "  </tbody>\n",
       "</table>\n",
       "</div>"
      ],
      "text/plain": [
       "          Artist Total Views  100M     Avg\n",
       "0            BTS    27,947.9  63.0   7.370\n",
       "1      Bad Bunny    27,573.4  66.0  14.555\n",
       "2  Justin Bieber    27,399.7  37.0   3.986\n",
       "3     Ed Sheeran    26,894.0  39.0   4.609\n",
       "4   Taylor Swift    24,350.0  38.0   5.716"
      ]
     },
     "execution_count": 3,
     "metadata": {},
     "output_type": "execute_result"
    }
   ],
   "source": [
    "data = pd.read_csv('./arquivos/topyoutube.csv')\n",
    "data.head(5)"
   ]
  },
  {
   "cell_type": "markdown",
   "id": "d9293f61-5baf-4f74-aeb8-ec15894f7af9",
   "metadata": {
    "tags": []
   },
   "source": [
    "# Tratamento dos Dados"
   ]
  },
  {
   "cell_type": "markdown",
   "id": "075dbb45-d1fd-4b6e-8844-9064afc7bac1",
   "metadata": {
    "tags": []
   },
   "source": [
    "## Tratar as colunas sem informação adicionando o texto “Não informado”."
   ]
  },
  {
   "cell_type": "code",
   "execution_count": 5,
   "id": "b63307c1-2633-4d7f-b709-31f4fe991171",
   "metadata": {
    "tags": []
   },
   "outputs": [
    {
     "name": "stdout",
     "output_type": "stream",
     "text": [
      "<class 'pandas.core.frame.DataFrame'>\n",
      "RangeIndex: 1587 entries, 0 to 1586\n",
      "Data columns (total 4 columns):\n",
      " #   Column       Non-Null Count  Dtype  \n",
      "---  ------       --------------  -----  \n",
      " 0   Artist       1587 non-null   object \n",
      " 1   Total Views  1587 non-null   object \n",
      " 2   100M         1416 non-null   float64\n",
      " 3   Avg          1587 non-null   float64\n",
      "dtypes: float64(2), object(2)\n",
      "memory usage: 49.7+ KB\n"
     ]
    }
   ],
   "source": [
    "data.info()"
   ]
  },
  {
   "cell_type": "code",
   "execution_count": 7,
   "id": "406368fa-e124-43aa-a419-33b2b34a8628",
   "metadata": {
    "tags": []
   },
   "outputs": [
    {
     "name": "stdout",
     "output_type": "stream",
     "text": [
      "<class 'pandas.core.frame.DataFrame'>\n",
      "RangeIndex: 1587 entries, 0 to 1586\n",
      "Data columns (total 4 columns):\n",
      " #   Column       Non-Null Count  Dtype  \n",
      "---  ------       --------------  -----  \n",
      " 0   Artist       1587 non-null   object \n",
      " 1   Total Views  1587 non-null   object \n",
      " 2   100M         1587 non-null   float64\n",
      " 3   Avg          1587 non-null   float64\n",
      "dtypes: float64(2), object(2)\n",
      "memory usage: 49.7+ KB\n"
     ]
    }
   ],
   "source": [
    "# Como, nesse caso, a única coluna com valores faltantes é '100M', portanto, todo dado NA será tratado como 0\n",
    "data['100M'] = data['100M'].fillna(0)\n",
    "data.info()"
   ]
  },
  {
   "cell_type": "markdown",
   "id": "32abad58-1b15-4241-a9fb-90d520b79e64",
   "metadata": {
    "tags": []
   },
   "source": [
    "## Formatar coluna “AVG” para 2 casas decimais depois da vírgula"
   ]
  },
  {
   "cell_type": "code",
   "execution_count": 10,
   "id": "d1bacfdb-b918-4b42-895b-a0b3a4778e28",
   "metadata": {
    "tags": []
   },
   "outputs": [
    {
     "data": {
      "text/plain": [
       "0        7.370\n",
       "1       14.555\n",
       "2        3.986\n",
       "3        4.609\n",
       "4        5.716\n",
       "         ...  \n",
       "1582     0.022\n",
       "1583     0.020\n",
       "1584     0.039\n",
       "1585     0.020\n",
       "1586     0.036\n",
       "Name: Avg, Length: 1587, dtype: float64"
      ]
     },
     "execution_count": 10,
     "metadata": {},
     "output_type": "execute_result"
    }
   ],
   "source": [
    "data['Avg']"
   ]
  },
  {
   "cell_type": "code",
   "execution_count": 11,
   "id": "f2babd50-8ad5-4617-92d6-9e26e7a274bd",
   "metadata": {
    "tags": []
   },
   "outputs": [
    {
     "data": {
      "text/plain": [
       "0        7.37\n",
       "1       14.56\n",
       "2        3.99\n",
       "3        4.61\n",
       "4        5.72\n",
       "        ...  \n",
       "1582     0.02\n",
       "1583     0.02\n",
       "1584     0.04\n",
       "1585     0.02\n",
       "1586     0.04\n",
       "Name: Avg, Length: 1587, dtype: float64"
      ]
     },
     "execution_count": 11,
     "metadata": {},
     "output_type": "execute_result"
    }
   ],
   "source": [
    "data['Avg'] = data['Avg'].round(2)\n",
    "data['Avg']"
   ]
  },
  {
   "cell_type": "markdown",
   "id": "ad1cac7f-4a30-4808-9cc7-167aabc02ee9",
   "metadata": {},
   "source": [
    "# Análise Exploratória"
   ]
  },
  {
   "cell_type": "markdown",
   "id": "94eb1ac7-fb27-4fa1-8d7b-19b1c5d8eb53",
   "metadata": {},
   "source": [
    "## Mostrar os top 10 usuários"
   ]
  },
  {
   "cell_type": "code",
   "execution_count": 14,
   "id": "6f89ba3c-9f31-4628-aa8d-352e3acdbe61",
   "metadata": {
    "tags": []
   },
   "outputs": [
    {
     "data": {
      "text/html": [
       "<div>\n",
       "<style scoped>\n",
       "    .dataframe tbody tr th:only-of-type {\n",
       "        vertical-align: middle;\n",
       "    }\n",
       "\n",
       "    .dataframe tbody tr th {\n",
       "        vertical-align: top;\n",
       "    }\n",
       "\n",
       "    .dataframe thead th {\n",
       "        text-align: right;\n",
       "    }\n",
       "</style>\n",
       "<table border=\"1\" class=\"dataframe\">\n",
       "  <thead>\n",
       "    <tr style=\"text-align: right;\">\n",
       "      <th></th>\n",
       "      <th>Artist</th>\n",
       "      <th>Total Views</th>\n",
       "      <th>100M</th>\n",
       "      <th>Avg</th>\n",
       "    </tr>\n",
       "  </thead>\n",
       "  <tbody>\n",
       "    <tr>\n",
       "      <th>857</th>\n",
       "      <td>Phan Mạnh Quỳnh</td>\n",
       "      <td>998.9</td>\n",
       "      <td>2.0</td>\n",
       "      <td>0.10</td>\n",
       "    </tr>\n",
       "    <tr>\n",
       "      <th>858</th>\n",
       "      <td>Bomba Estéreo</td>\n",
       "      <td>997.6</td>\n",
       "      <td>3.0</td>\n",
       "      <td>0.18</td>\n",
       "    </tr>\n",
       "    <tr>\n",
       "      <th>859</th>\n",
       "      <td>The Offspring</td>\n",
       "      <td>995.1</td>\n",
       "      <td>1.0</td>\n",
       "      <td>0.50</td>\n",
       "    </tr>\n",
       "    <tr>\n",
       "      <th>860</th>\n",
       "      <td>Ultimo</td>\n",
       "      <td>994.7</td>\n",
       "      <td>0.0</td>\n",
       "      <td>0.33</td>\n",
       "    </tr>\n",
       "    <tr>\n",
       "      <th>861</th>\n",
       "      <td>Humberto e Ronaldo</td>\n",
       "      <td>993.4</td>\n",
       "      <td>1.0</td>\n",
       "      <td>0.35</td>\n",
       "    </tr>\n",
       "    <tr>\n",
       "      <th>862</th>\n",
       "      <td>Leandro Borges</td>\n",
       "      <td>993.0</td>\n",
       "      <td>1.0</td>\n",
       "      <td>0.44</td>\n",
       "    </tr>\n",
       "    <tr>\n",
       "      <th>863</th>\n",
       "      <td>João Neto e Frederico</td>\n",
       "      <td>991.7</td>\n",
       "      <td>2.0</td>\n",
       "      <td>0.06</td>\n",
       "    </tr>\n",
       "    <tr>\n",
       "      <th>864</th>\n",
       "      <td>Vegedream</td>\n",
       "      <td>991.3</td>\n",
       "      <td>1.0</td>\n",
       "      <td>0.51</td>\n",
       "    </tr>\n",
       "    <tr>\n",
       "      <th>865</th>\n",
       "      <td>Alex Campos</td>\n",
       "      <td>991.2</td>\n",
       "      <td>1.0</td>\n",
       "      <td>0.48</td>\n",
       "    </tr>\n",
       "    <tr>\n",
       "      <th>866</th>\n",
       "      <td>Sasa Kovacevic</td>\n",
       "      <td>985.3</td>\n",
       "      <td>0.0</td>\n",
       "      <td>0.12</td>\n",
       "    </tr>\n",
       "  </tbody>\n",
       "</table>\n",
       "</div>"
      ],
      "text/plain": [
       "                    Artist Total Views  100M   Avg\n",
       "857        Phan Mạnh Quỳnh       998.9   2.0  0.10\n",
       "858          Bomba Estéreo       997.6   3.0  0.18\n",
       "859          The Offspring       995.1   1.0  0.50\n",
       "860                 Ultimo       994.7   0.0  0.33\n",
       "861     Humberto e Ronaldo       993.4   1.0  0.35\n",
       "862         Leandro Borges       993.0   1.0  0.44\n",
       "863  João Neto e Frederico       991.7   2.0  0.06\n",
       "864              Vegedream       991.3   1.0  0.51\n",
       "865            Alex Campos       991.2   1.0  0.48\n",
       "866         Sasa Kovacevic       985.3   0.0  0.12"
      ]
     },
     "execution_count": 14,
     "metadata": {},
     "output_type": "execute_result"
    }
   ],
   "source": [
    "# Aqui, estou mostrando os 10 usuários com mais visualizações\n",
    "\n",
    "data.sort_values(by='Total Views', ascending=False).head(10)"
   ]
  },
  {
   "cell_type": "markdown",
   "id": "186193ba-e321-42cd-a2dc-da68fdeb412b",
   "metadata": {},
   "source": [
    "## Mostrar primeiros 100 usuários por nome decrescente"
   ]
  },
  {
   "cell_type": "code",
   "execution_count": 19,
   "id": "5260f5f7-9d69-45d0-acb3-902994e56dcd",
   "metadata": {
    "tags": []
   },
   "outputs": [
    {
     "data": {
      "text/plain": [
       "['Łobuzy',\n",
       " 'İrem Derici',\n",
       " 'Ñengo Flow',\n",
       " 'Çağatay Akman',\n",
       " 'will.i.am',\n",
       " 'twenty one pilots',\n",
       " 't.A.T.u.',\n",
       " 'miss A',\n",
       " 'iKON',\n",
       " 'gnash',\n",
       " 'f(x)',\n",
       " 'deadmau5',\n",
       " 'blink-182',\n",
       " 'back number',\n",
       " 'amazarashi',\n",
       " 'a-ha',\n",
       " 'Zé Vaqueiro',\n",
       " 'Zé Ramalho',\n",
       " 'Zé Neto e Cristiano',\n",
       " 'Zé Felipe',\n",
       " 'Zoé',\n",
       " 'Zouhair Bahaoui',\n",
       " 'Zion & Lennox',\n",
       " 'Zendaya',\n",
       " 'Zedd',\n",
       " 'Zay & Zayion',\n",
       " 'Zara Larsson',\n",
       " 'Zak Chumpae',\n",
       " 'Zaho',\n",
       " 'Zack Knight',\n",
       " 'ZHU',\n",
       " 'ZAZ',\n",
       " 'ZAYN',\n",
       " 'Yuridia',\n",
       " 'YoungBoy Never Broke Again',\n",
       " 'Young Thug',\n",
       " 'Young Money',\n",
       " 'Young M.A',\n",
       " 'Yohani',\n",
       " 'Yo Yo Honey Singh',\n",
       " 'Yo Gotti',\n",
       " 'Ylvis',\n",
       " 'Yinglee Srijumpol',\n",
       " 'Yemi Alade',\n",
       " 'Yellow Claw',\n",
       " 'Yella Beezy',\n",
       " 'Yelawolf',\n",
       " 'Years & Years',\n",
       " 'Yeah Yeah Yeahs',\n",
       " 'Yasmin Verissimo',\n",
       " 'Yash Narvekar',\n",
       " 'Yandel',\n",
       " 'YOUNGOHM',\n",
       " 'YNW Melly',\n",
       " 'YG',\n",
       " 'YFN Lucci',\n",
       " 'Y2K',\n",
       " 'Xantos',\n",
       " 'XXXTENTACION',\n",
       " 'X Ambassadors',\n",
       " 'Wyclef Jean',\n",
       " 'Woodkid',\n",
       " 'Wonder Girls',\n",
       " 'Wolfine',\n",
       " 'Wiz Khalifa',\n",
       " 'Within Temptation',\n",
       " 'Wisin & Yandel',\n",
       " 'Wisin',\n",
       " 'Willy William',\n",
       " 'Willow Smith',\n",
       " \"Why Don't We\",\n",
       " 'Whitney Houston',\n",
       " 'Whitesnake',\n",
       " 'Wheatus',\n",
       " 'Wham!',\n",
       " 'Westlife',\n",
       " 'Wesley Safadão',\n",
       " 'Weird Al Yankovic',\n",
       " 'Weezer',\n",
       " 'Warren G',\n",
       " 'Wanna One',\n",
       " 'Wale',\n",
       " 'Wagakki Band',\n",
       " 'WINNER',\n",
       " 'WALK THE MOON',\n",
       " 'Vũ Duy Khánh',\n",
       " 'Vázquez Sounds',\n",
       " 'Vremya i Steklo',\n",
       " 'Vitor Fernandes',\n",
       " 'Vitaa',\n",
       " 'Vishal Dadlani',\n",
       " 'Violetta',\n",
       " 'Village People',\n",
       " 'Victor & Leo',\n",
       " 'Vicentico',\n",
       " 'Via Vallen',\n",
       " 'Veysel Mutlu',\n",
       " 'Veysel',\n",
       " 'Vengaboys',\n",
       " 'Vegedream']"
      ]
     },
     "execution_count": 19,
     "metadata": {},
     "output_type": "execute_result"
    }
   ],
   "source": [
    "list(data.sort_values(by='Artist', ascending=False).head(100)['Artist'])"
   ]
  },
  {
   "cell_type": "markdown",
   "id": "cef87f67-d7b5-436f-b426-33f0aead5266",
   "metadata": {},
   "source": [
    "## Salvar um novo CSV com a informação tratada"
   ]
  },
  {
   "cell_type": "code",
   "execution_count": 20,
   "id": "4e8fd601-5371-47e1-a37f-21de18bc0752",
   "metadata": {
    "tags": []
   },
   "outputs": [],
   "source": [
    "data.to_csv('./arquivos/YouTube Tratado.csv')"
   ]
  }
 ],
 "metadata": {
  "kernelspec": {
   "display_name": "Python 3 (ipykernel)",
   "language": "python",
   "name": "python3"
  },
  "language_info": {
   "codemirror_mode": {
    "name": "ipython",
    "version": 3
   },
   "file_extension": ".py",
   "mimetype": "text/x-python",
   "name": "python",
   "nbconvert_exporter": "python",
   "pygments_lexer": "ipython3",
   "version": "3.10.9"
  }
 },
 "nbformat": 4,
 "nbformat_minor": 5
}
